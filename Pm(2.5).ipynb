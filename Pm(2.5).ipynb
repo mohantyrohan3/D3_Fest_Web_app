{
 "cells": [
  {
   "cell_type": "markdown",
   "id": "f02882a2",
   "metadata": {},
   "source": [
    "# PM 2.5"
   ]
  },
  {
   "cell_type": "code",
   "execution_count": 1,
   "id": "5b39d344",
   "metadata": {},
   "outputs": [],
   "source": [
    "# Importing Required Libraries\n",
    "\n",
    "import pandas as pd\n",
    "import numpy as np\n",
    "import matplotlib.pyplot as plt\n",
    "import seaborn as sns\n",
    "import warnings\n",
    "warnings.filterwarnings(\"ignore\")"
   ]
  },
  {
   "cell_type": "code",
   "execution_count": 2,
   "id": "ccbea73f",
   "metadata": {},
   "outputs": [],
   "source": [
    "df=pd.read_csv(\"train.csv\").copy()"
   ]
  },
  {
   "cell_type": "code",
   "execution_count": 3,
   "id": "5609ac33",
   "metadata": {},
   "outputs": [
    {
     "data": {
      "text/html": [
       "<div>\n",
       "<style scoped>\n",
       "    .dataframe tbody tr th:only-of-type {\n",
       "        vertical-align: middle;\n",
       "    }\n",
       "\n",
       "    .dataframe tbody tr th {\n",
       "        vertical-align: top;\n",
       "    }\n",
       "\n",
       "    .dataframe thead th {\n",
       "        text-align: right;\n",
       "    }\n",
       "</style>\n",
       "<table border=\"1\" class=\"dataframe\">\n",
       "  <thead>\n",
       "    <tr style=\"text-align: right;\">\n",
       "      <th></th>\n",
       "      <th>Unnamed: 0</th>\n",
       "      <th>year</th>\n",
       "      <th>month</th>\n",
       "      <th>day</th>\n",
       "      <th>hour</th>\n",
       "      <th>PM2.5</th>\n",
       "      <th>temperature</th>\n",
       "      <th>pressure</th>\n",
       "      <th>rain</th>\n",
       "      <th>wind_direction</th>\n",
       "      <th>wind_speed</th>\n",
       "    </tr>\n",
       "  </thead>\n",
       "  <tbody>\n",
       "    <tr>\n",
       "      <th>0</th>\n",
       "      <td>0</td>\n",
       "      <td>2013</td>\n",
       "      <td>-37.0</td>\n",
       "      <td>1.0</td>\n",
       "      <td>0.0</td>\n",
       "      <td>4.0</td>\n",
       "      <td>-0.7</td>\n",
       "      <td>102-37</td>\n",
       "      <td>0.0</td>\n",
       "      <td>NNW</td>\n",
       "      <td>4.4</td>\n",
       "    </tr>\n",
       "    <tr>\n",
       "      <th>1</th>\n",
       "      <td>1</td>\n",
       "      <td>201-37</td>\n",
       "      <td>-37.0</td>\n",
       "      <td>1.0</td>\n",
       "      <td>1.0</td>\n",
       "      <td>8.0</td>\n",
       "      <td>-1.1</td>\n",
       "      <td>1023.2</td>\n",
       "      <td>0.0</td>\n",
       "      <td>N</td>\n",
       "      <td>NaN</td>\n",
       "    </tr>\n",
       "    <tr>\n",
       "      <th>2</th>\n",
       "      <td>2</td>\n",
       "      <td>2013</td>\n",
       "      <td>3.0</td>\n",
       "      <td>1.0</td>\n",
       "      <td>2.0</td>\n",
       "      <td>7.0</td>\n",
       "      <td>-1.1</td>\n",
       "      <td>1023.5</td>\n",
       "      <td>0.0</td>\n",
       "      <td>NNW</td>\n",
       "      <td>5.6</td>\n",
       "    </tr>\n",
       "    <tr>\n",
       "      <th>3</th>\n",
       "      <td>3</td>\n",
       "      <td>2013</td>\n",
       "      <td>3.0</td>\n",
       "      <td>1.0</td>\n",
       "      <td>3.0</td>\n",
       "      <td>6.0</td>\n",
       "      <td>-1.4</td>\n",
       "      <td>1024.5</td>\n",
       "      <td>0.0</td>\n",
       "      <td>NW</td>\n",
       "      <td>3.1</td>\n",
       "    </tr>\n",
       "    <tr>\n",
       "      <th>4</th>\n",
       "      <td>4</td>\n",
       "      <td>2013</td>\n",
       "      <td>3.0</td>\n",
       "      <td>1.0</td>\n",
       "      <td>4.0</td>\n",
       "      <td>3.0</td>\n",
       "      <td>-2.0</td>\n",
       "      <td>1025.2</td>\n",
       "      <td>0.0</td>\n",
       "      <td>N</td>\n",
       "      <td>2.0</td>\n",
       "    </tr>\n",
       "  </tbody>\n",
       "</table>\n",
       "</div>"
      ],
      "text/plain": [
       "   Unnamed: 0    year  month  day  hour  PM2.5  temperature pressure  rain  \\\n",
       "0           0    2013  -37.0  1.0   0.0    4.0         -0.7   102-37   0.0   \n",
       "1           1  201-37  -37.0  1.0   1.0    8.0         -1.1   1023.2   0.0   \n",
       "2           2    2013    3.0  1.0   2.0    7.0         -1.1   1023.5   0.0   \n",
       "3           3    2013    3.0  1.0   3.0    6.0         -1.4   1024.5   0.0   \n",
       "4           4    2013    3.0  1.0   4.0    3.0         -2.0   1025.2   0.0   \n",
       "\n",
       "  wind_direction  wind_speed  \n",
       "0            NNW         4.4  \n",
       "1              N         NaN  \n",
       "2            NNW         5.6  \n",
       "3             NW         3.1  \n",
       "4              N         2.0  "
      ]
     },
     "execution_count": 3,
     "metadata": {},
     "output_type": "execute_result"
    }
   ],
   "source": [
    "df.head()"
   ]
  },
  {
   "cell_type": "code",
   "execution_count": 4,
   "id": "e965482b",
   "metadata": {},
   "outputs": [
    {
     "name": "stdout",
     "output_type": "stream",
     "text": [
      "<class 'pandas.core.frame.DataFrame'>\n",
      "RangeIndex: 31527 entries, 0 to 31526\n",
      "Data columns (total 11 columns):\n",
      " #   Column          Non-Null Count  Dtype  \n",
      "---  ------          --------------  -----  \n",
      " 0   Unnamed: 0      31527 non-null  int64  \n",
      " 1   year            31512 non-null  object \n",
      " 2   month           31521 non-null  float64\n",
      " 3   day             31507 non-null  float64\n",
      " 4   hour            31519 non-null  float64\n",
      " 5   PM2.5           31513 non-null  float64\n",
      " 6   temperature     31508 non-null  float64\n",
      " 7   pressure        31500 non-null  object \n",
      " 8   rain            31515 non-null  float64\n",
      " 9   wind_direction  31467 non-null  object \n",
      " 10  wind_speed      31502 non-null  float64\n",
      "dtypes: float64(7), int64(1), object(3)\n",
      "memory usage: 2.6+ MB\n"
     ]
    }
   ],
   "source": [
    "df.info()"
   ]
  },
  {
   "cell_type": "code",
   "execution_count": 5,
   "id": "f5b2387d",
   "metadata": {},
   "outputs": [
    {
     "data": {
      "text/html": [
       "<div>\n",
       "<style scoped>\n",
       "    .dataframe tbody tr th:only-of-type {\n",
       "        vertical-align: middle;\n",
       "    }\n",
       "\n",
       "    .dataframe tbody tr th {\n",
       "        vertical-align: top;\n",
       "    }\n",
       "\n",
       "    .dataframe thead th {\n",
       "        text-align: right;\n",
       "    }\n",
       "</style>\n",
       "<table border=\"1\" class=\"dataframe\">\n",
       "  <thead>\n",
       "    <tr style=\"text-align: right;\">\n",
       "      <th></th>\n",
       "      <th>Unnamed: 0</th>\n",
       "      <th>month</th>\n",
       "      <th>day</th>\n",
       "      <th>hour</th>\n",
       "      <th>PM2.5</th>\n",
       "      <th>temperature</th>\n",
       "      <th>rain</th>\n",
       "      <th>wind_speed</th>\n",
       "    </tr>\n",
       "  </thead>\n",
       "  <tbody>\n",
       "    <tr>\n",
       "      <th>count</th>\n",
       "      <td>31527.000000</td>\n",
       "      <td>31521.000000</td>\n",
       "      <td>31507.000000</td>\n",
       "      <td>31519.000000</td>\n",
       "      <td>3.151300e+04</td>\n",
       "      <td>31508.000000</td>\n",
       "      <td>31515.000000</td>\n",
       "      <td>31502.000000</td>\n",
       "    </tr>\n",
       "    <tr>\n",
       "      <th>mean</th>\n",
       "      <td>16195.784217</td>\n",
       "      <td>6.451001</td>\n",
       "      <td>15.413083</td>\n",
       "      <td>11.288429</td>\n",
       "      <td>2.095628e+03</td>\n",
       "      <td>14.356532</td>\n",
       "      <td>0.071744</td>\n",
       "      <td>1.696949</td>\n",
       "    </tr>\n",
       "    <tr>\n",
       "      <th>std</th>\n",
       "      <td>9514.606331</td>\n",
       "      <td>3.326838</td>\n",
       "      <td>33.139925</td>\n",
       "      <td>37.127145</td>\n",
       "      <td>3.575087e+05</td>\n",
       "      <td>11.296366</td>\n",
       "      <td>0.949720</td>\n",
       "      <td>1.338706</td>\n",
       "    </tr>\n",
       "    <tr>\n",
       "      <th>min</th>\n",
       "      <td>0.000000</td>\n",
       "      <td>-37.000000</td>\n",
       "      <td>-5656.000000</td>\n",
       "      <td>-6464.000000</td>\n",
       "      <td>3.000000e+00</td>\n",
       "      <td>-16.800000</td>\n",
       "      <td>0.000000</td>\n",
       "      <td>-79.000000</td>\n",
       "    </tr>\n",
       "    <tr>\n",
       "      <th>25%</th>\n",
       "      <td>7888.500000</td>\n",
       "      <td>4.000000</td>\n",
       "      <td>8.000000</td>\n",
       "      <td>5.000000</td>\n",
       "      <td>2.300000e+01</td>\n",
       "      <td>4.300000</td>\n",
       "      <td>0.000000</td>\n",
       "      <td>0.900000</td>\n",
       "    </tr>\n",
       "    <tr>\n",
       "      <th>50%</th>\n",
       "      <td>16279.000000</td>\n",
       "      <td>6.000000</td>\n",
       "      <td>15.000000</td>\n",
       "      <td>11.000000</td>\n",
       "      <td>5.800000e+01</td>\n",
       "      <td>15.800000</td>\n",
       "      <td>0.000000</td>\n",
       "      <td>1.400000</td>\n",
       "    </tr>\n",
       "    <tr>\n",
       "      <th>75%</th>\n",
       "      <td>24371.500000</td>\n",
       "      <td>9.000000</td>\n",
       "      <td>23.000000</td>\n",
       "      <td>18.000000</td>\n",
       "      <td>1.130000e+02</td>\n",
       "      <td>23.700000</td>\n",
       "      <td>0.000000</td>\n",
       "      <td>2.200000</td>\n",
       "    </tr>\n",
       "    <tr>\n",
       "      <th>max</th>\n",
       "      <td>35054.000000</td>\n",
       "      <td>12.000000</td>\n",
       "      <td>31.000000</td>\n",
       "      <td>23.000000</td>\n",
       "      <td>6.346466e+07</td>\n",
       "      <td>40.500000</td>\n",
       "      <td>72.500000</td>\n",
       "      <td>11.200000</td>\n",
       "    </tr>\n",
       "  </tbody>\n",
       "</table>\n",
       "</div>"
      ],
      "text/plain": [
       "         Unnamed: 0         month           day          hour         PM2.5  \\\n",
       "count  31527.000000  31521.000000  31507.000000  31519.000000  3.151300e+04   \n",
       "mean   16195.784217      6.451001     15.413083     11.288429  2.095628e+03   \n",
       "std     9514.606331      3.326838     33.139925     37.127145  3.575087e+05   \n",
       "min        0.000000    -37.000000  -5656.000000  -6464.000000  3.000000e+00   \n",
       "25%     7888.500000      4.000000      8.000000      5.000000  2.300000e+01   \n",
       "50%    16279.000000      6.000000     15.000000     11.000000  5.800000e+01   \n",
       "75%    24371.500000      9.000000     23.000000     18.000000  1.130000e+02   \n",
       "max    35054.000000     12.000000     31.000000     23.000000  6.346466e+07   \n",
       "\n",
       "        temperature          rain    wind_speed  \n",
       "count  31508.000000  31515.000000  31502.000000  \n",
       "mean      14.356532      0.071744      1.696949  \n",
       "std       11.296366      0.949720      1.338706  \n",
       "min      -16.800000      0.000000    -79.000000  \n",
       "25%        4.300000      0.000000      0.900000  \n",
       "50%       15.800000      0.000000      1.400000  \n",
       "75%       23.700000      0.000000      2.200000  \n",
       "max       40.500000     72.500000     11.200000  "
      ]
     },
     "execution_count": 5,
     "metadata": {},
     "output_type": "execute_result"
    }
   ],
   "source": [
    "df.describe()"
   ]
  },
  {
   "cell_type": "code",
   "execution_count": 6,
   "id": "993441ae",
   "metadata": {},
   "outputs": [
    {
     "data": {
      "text/html": [
       "<div>\n",
       "<style scoped>\n",
       "    .dataframe tbody tr th:only-of-type {\n",
       "        vertical-align: middle;\n",
       "    }\n",
       "\n",
       "    .dataframe tbody tr th {\n",
       "        vertical-align: top;\n",
       "    }\n",
       "\n",
       "    .dataframe thead th {\n",
       "        text-align: right;\n",
       "    }\n",
       "</style>\n",
       "<table border=\"1\" class=\"dataframe\">\n",
       "  <thead>\n",
       "    <tr style=\"text-align: right;\">\n",
       "      <th></th>\n",
       "      <th>Unnamed: 0</th>\n",
       "      <th>month</th>\n",
       "      <th>day</th>\n",
       "      <th>hour</th>\n",
       "      <th>PM2.5</th>\n",
       "      <th>temperature</th>\n",
       "      <th>rain</th>\n",
       "      <th>wind_speed</th>\n",
       "    </tr>\n",
       "  </thead>\n",
       "  <tbody>\n",
       "    <tr>\n",
       "      <th>Unnamed: 0</th>\n",
       "      <td>1.000000</td>\n",
       "      <td>0.053745</td>\n",
       "      <td>-0.000974</td>\n",
       "      <td>-0.004918</td>\n",
       "      <td>-0.009109</td>\n",
       "      <td>-0.018812</td>\n",
       "      <td>0.008747</td>\n",
       "      <td>0.093004</td>\n",
       "    </tr>\n",
       "    <tr>\n",
       "      <th>month</th>\n",
       "      <td>0.053745</td>\n",
       "      <td>1.000000</td>\n",
       "      <td>0.007470</td>\n",
       "      <td>0.009215</td>\n",
       "      <td>-0.004149</td>\n",
       "      <td>0.150297</td>\n",
       "      <td>0.014065</td>\n",
       "      <td>-0.145393</td>\n",
       "    </tr>\n",
       "    <tr>\n",
       "      <th>day</th>\n",
       "      <td>-0.000974</td>\n",
       "      <td>0.007470</td>\n",
       "      <td>1.000000</td>\n",
       "      <td>0.000686</td>\n",
       "      <td>-0.001939</td>\n",
       "      <td>0.014903</td>\n",
       "      <td>0.000181</td>\n",
       "      <td>-0.009156</td>\n",
       "    </tr>\n",
       "    <tr>\n",
       "      <th>hour</th>\n",
       "      <td>-0.004918</td>\n",
       "      <td>0.009215</td>\n",
       "      <td>0.000686</td>\n",
       "      <td>1.000000</td>\n",
       "      <td>0.001019</td>\n",
       "      <td>0.036235</td>\n",
       "      <td>0.002572</td>\n",
       "      <td>0.020382</td>\n",
       "    </tr>\n",
       "    <tr>\n",
       "      <th>PM2.5</th>\n",
       "      <td>-0.009109</td>\n",
       "      <td>-0.004149</td>\n",
       "      <td>-0.001939</td>\n",
       "      <td>0.001019</td>\n",
       "      <td>1.000000</td>\n",
       "      <td>-0.004347</td>\n",
       "      <td>0.007282</td>\n",
       "      <td>0.000801</td>\n",
       "    </tr>\n",
       "    <tr>\n",
       "      <th>temperature</th>\n",
       "      <td>-0.018812</td>\n",
       "      <td>0.150297</td>\n",
       "      <td>0.014903</td>\n",
       "      <td>0.036235</td>\n",
       "      <td>-0.004347</td>\n",
       "      <td>1.000000</td>\n",
       "      <td>0.033579</td>\n",
       "      <td>0.038875</td>\n",
       "    </tr>\n",
       "    <tr>\n",
       "      <th>rain</th>\n",
       "      <td>0.008747</td>\n",
       "      <td>0.014065</td>\n",
       "      <td>0.000181</td>\n",
       "      <td>0.002572</td>\n",
       "      <td>0.007282</td>\n",
       "      <td>0.033579</td>\n",
       "      <td>1.000000</td>\n",
       "      <td>0.021422</td>\n",
       "    </tr>\n",
       "    <tr>\n",
       "      <th>wind_speed</th>\n",
       "      <td>0.093004</td>\n",
       "      <td>-0.145393</td>\n",
       "      <td>-0.009156</td>\n",
       "      <td>0.020382</td>\n",
       "      <td>0.000801</td>\n",
       "      <td>0.038875</td>\n",
       "      <td>0.021422</td>\n",
       "      <td>1.000000</td>\n",
       "    </tr>\n",
       "  </tbody>\n",
       "</table>\n",
       "</div>"
      ],
      "text/plain": [
       "             Unnamed: 0     month       day      hour     PM2.5  temperature  \\\n",
       "Unnamed: 0     1.000000  0.053745 -0.000974 -0.004918 -0.009109    -0.018812   \n",
       "month          0.053745  1.000000  0.007470  0.009215 -0.004149     0.150297   \n",
       "day           -0.000974  0.007470  1.000000  0.000686 -0.001939     0.014903   \n",
       "hour          -0.004918  0.009215  0.000686  1.000000  0.001019     0.036235   \n",
       "PM2.5         -0.009109 -0.004149 -0.001939  0.001019  1.000000    -0.004347   \n",
       "temperature   -0.018812  0.150297  0.014903  0.036235 -0.004347     1.000000   \n",
       "rain           0.008747  0.014065  0.000181  0.002572  0.007282     0.033579   \n",
       "wind_speed     0.093004 -0.145393 -0.009156  0.020382  0.000801     0.038875   \n",
       "\n",
       "                 rain  wind_speed  \n",
       "Unnamed: 0   0.008747    0.093004  \n",
       "month        0.014065   -0.145393  \n",
       "day          0.000181   -0.009156  \n",
       "hour         0.002572    0.020382  \n",
       "PM2.5        0.007282    0.000801  \n",
       "temperature  0.033579    0.038875  \n",
       "rain         1.000000    0.021422  \n",
       "wind_speed   0.021422    1.000000  "
      ]
     },
     "execution_count": 6,
     "metadata": {},
     "output_type": "execute_result"
    }
   ],
   "source": [
    "df.corr()  # Correlation about Different Columns "
   ]
  },
  {
   "cell_type": "code",
   "execution_count": 7,
   "id": "2a753b28",
   "metadata": {},
   "outputs": [
    {
     "data": {
      "text/plain": [
       "Unnamed: 0         0\n",
       "year              15\n",
       "month              6\n",
       "day               20\n",
       "hour               8\n",
       "PM2.5             14\n",
       "temperature       19\n",
       "pressure          27\n",
       "rain              12\n",
       "wind_direction    60\n",
       "wind_speed        25\n",
       "dtype: int64"
      ]
     },
     "execution_count": 7,
     "metadata": {},
     "output_type": "execute_result"
    }
   ],
   "source": [
    "df.isnull().sum() # Checking for Null Values"
   ]
  },
  {
   "cell_type": "markdown",
   "id": "eb6770cc",
   "metadata": {},
   "source": [
    "## EDA and Feature Enginnering"
   ]
  },
  {
   "cell_type": "code",
   "execution_count": 8,
   "id": "677e0466",
   "metadata": {},
   "outputs": [],
   "source": [
    "df.dropna(inplace=True)"
   ]
  },
  {
   "cell_type": "markdown",
   "id": "37eb1a50",
   "metadata": {},
   "source": [
    "#### We Dropped the Null values as Total null values in this dataset is comparatively low to the size of Dataset"
   ]
  },
  {
   "cell_type": "code",
   "execution_count": 9,
   "id": "161e02d7",
   "metadata": {},
   "outputs": [
    {
     "data": {
      "text/plain": [
       "2015    8522\n",
       "2014    8235\n",
       "2013    7301\n",
       "2016    7026\n",
       "2017     287\n",
       "Name: year, dtype: int64"
      ]
     },
     "execution_count": 9,
     "metadata": {},
     "output_type": "execute_result"
    }
   ],
   "source": [
    "df['year'].value_counts()"
   ]
  },
  {
   "cell_type": "code",
   "execution_count": 10,
   "id": "e7845b05",
   "metadata": {},
   "outputs": [
    {
     "data": {
      "text/plain": [
       "<seaborn.axisgrid.FacetGrid at 0x222bf4c27c0>"
      ]
     },
     "execution_count": 10,
     "metadata": {},
     "output_type": "execute_result"
    },
    {
     "data": {
      "image/png": "[encoded data removed]",
      "text/plain": [
       "<Figure size 360x360 with 1 Axes>"
      ]
     },
     "metadata": {
      "needs_background": "light"
     },
     "output_type": "display_data"
    }
   ],
   "source": [
    "# Line Plot between Year and PM2.5 Column\n",
    "\n",
    "sns.relplot(x=df['year'],y=df['PM2.5'],data=df,kind='line')"
   ]
  },
  {
   "cell_type": "code",
   "execution_count": 11,
   "id": "c7c0cec0",
   "metadata": {},
   "outputs": [
    {
     "data": {
      "text/html": [
       "<div>\n",
       "<style scoped>\n",
       "    .dataframe tbody tr th:only-of-type {\n",
       "        vertical-align: middle;\n",
       "    }\n",
       "\n",
       "    .dataframe tbody tr th {\n",
       "        vertical-align: top;\n",
       "    }\n",
       "\n",
       "    .dataframe thead th {\n",
       "        text-align: right;\n",
       "    }\n",
       "</style>\n",
       "<table border=\"1\" class=\"dataframe\">\n",
       "  <thead>\n",
       "    <tr style=\"text-align: right;\">\n",
       "      <th></th>\n",
       "      <th>Unnamed: 0</th>\n",
       "      <th>year</th>\n",
       "      <th>month</th>\n",
       "      <th>day</th>\n",
       "      <th>hour</th>\n",
       "      <th>PM2.5</th>\n",
       "      <th>temperature</th>\n",
       "      <th>pressure</th>\n",
       "      <th>rain</th>\n",
       "      <th>wind_direction</th>\n",
       "      <th>wind_speed</th>\n",
       "    </tr>\n",
       "  </thead>\n",
       "  <tbody>\n",
       "  </tbody>\n",
       "</table>\n",
       "</div>"
      ],
      "text/plain": [
       "Empty DataFrame\n",
       "Columns: [Unnamed: 0, year, month, day, hour, PM2.5, temperature, pressure, rain, wind_direction, wind_speed]\n",
       "Index: []"
      ]
     },
     "execution_count": 11,
     "metadata": {},
     "output_type": "execute_result"
    }
   ],
   "source": [
    "# Just Checking For an Outlier\n",
    "\n",
    "df[df['year']=='201-37']"
   ]
  },
  {
   "cell_type": "code",
   "execution_count": 12,
   "id": "3903c25f",
   "metadata": {},
   "outputs": [
    {
     "data": {
      "text/html": [
       "<div>\n",
       "<style scoped>\n",
       "    .dataframe tbody tr th:only-of-type {\n",
       "        vertical-align: middle;\n",
       "    }\n",
       "\n",
       "    .dataframe tbody tr th {\n",
       "        vertical-align: top;\n",
       "    }\n",
       "\n",
       "    .dataframe thead th {\n",
       "        text-align: right;\n",
       "    }\n",
       "</style>\n",
       "<table border=\"1\" class=\"dataframe\">\n",
       "  <thead>\n",
       "    <tr style=\"text-align: right;\">\n",
       "      <th></th>\n",
       "      <th>Unnamed: 0</th>\n",
       "      <th>year</th>\n",
       "      <th>month</th>\n",
       "      <th>day</th>\n",
       "      <th>hour</th>\n",
       "      <th>PM2.5</th>\n",
       "      <th>temperature</th>\n",
       "      <th>pressure</th>\n",
       "      <th>rain</th>\n",
       "      <th>wind_direction</th>\n",
       "      <th>wind_speed</th>\n",
       "    </tr>\n",
       "  </thead>\n",
       "  <tbody>\n",
       "    <tr>\n",
       "      <th>0</th>\n",
       "      <td>0</td>\n",
       "      <td>2013</td>\n",
       "      <td>-37.0</td>\n",
       "      <td>1.0</td>\n",
       "      <td>0.0</td>\n",
       "      <td>4.0</td>\n",
       "      <td>-0.7</td>\n",
       "      <td>102-37</td>\n",
       "      <td>0.0</td>\n",
       "      <td>NNW</td>\n",
       "      <td>4.4</td>\n",
       "    </tr>\n",
       "    <tr>\n",
       "      <th>2</th>\n",
       "      <td>2</td>\n",
       "      <td>2013</td>\n",
       "      <td>3.0</td>\n",
       "      <td>1.0</td>\n",
       "      <td>2.0</td>\n",
       "      <td>7.0</td>\n",
       "      <td>-1.1</td>\n",
       "      <td>1023.5</td>\n",
       "      <td>0.0</td>\n",
       "      <td>NNW</td>\n",
       "      <td>5.6</td>\n",
       "    </tr>\n",
       "    <tr>\n",
       "      <th>3</th>\n",
       "      <td>3</td>\n",
       "      <td>2013</td>\n",
       "      <td>3.0</td>\n",
       "      <td>1.0</td>\n",
       "      <td>3.0</td>\n",
       "      <td>6.0</td>\n",
       "      <td>-1.4</td>\n",
       "      <td>1024.5</td>\n",
       "      <td>0.0</td>\n",
       "      <td>NW</td>\n",
       "      <td>3.1</td>\n",
       "    </tr>\n",
       "    <tr>\n",
       "      <th>4</th>\n",
       "      <td>4</td>\n",
       "      <td>2013</td>\n",
       "      <td>3.0</td>\n",
       "      <td>1.0</td>\n",
       "      <td>4.0</td>\n",
       "      <td>3.0</td>\n",
       "      <td>-2.0</td>\n",
       "      <td>1025.2</td>\n",
       "      <td>0.0</td>\n",
       "      <td>N</td>\n",
       "      <td>2.0</td>\n",
       "    </tr>\n",
       "    <tr>\n",
       "      <th>6</th>\n",
       "      <td>6</td>\n",
       "      <td>2013</td>\n",
       "      <td>3.0</td>\n",
       "      <td>1.0</td>\n",
       "      <td>6.0</td>\n",
       "      <td>3.0</td>\n",
       "      <td>-2.6</td>\n",
       "      <td>1026.5</td>\n",
       "      <td>0.0</td>\n",
       "      <td>NNE</td>\n",
       "      <td>2.5</td>\n",
       "    </tr>\n",
       "    <tr>\n",
       "      <th>...</th>\n",
       "      <td>...</td>\n",
       "      <td>...</td>\n",
       "      <td>...</td>\n",
       "      <td>...</td>\n",
       "      <td>...</td>\n",
       "      <td>...</td>\n",
       "      <td>...</td>\n",
       "      <td>...</td>\n",
       "      <td>...</td>\n",
       "      <td>...</td>\n",
       "      <td>...</td>\n",
       "    </tr>\n",
       "    <tr>\n",
       "      <th>31522</th>\n",
       "      <td>35022</td>\n",
       "      <td>2017</td>\n",
       "      <td>2.0</td>\n",
       "      <td>27.0</td>\n",
       "      <td>6.0</td>\n",
       "      <td>80.0</td>\n",
       "      <td>-0.3</td>\n",
       "      <td>1019.4</td>\n",
       "      <td>0.0</td>\n",
       "      <td>ENE</td>\n",
       "      <td>0.8</td>\n",
       "    </tr>\n",
       "    <tr>\n",
       "      <th>31523</th>\n",
       "      <td>35032</td>\n",
       "      <td>2017</td>\n",
       "      <td>2.0</td>\n",
       "      <td>27.0</td>\n",
       "      <td>16.0</td>\n",
       "      <td>75.0</td>\n",
       "      <td>15.9</td>\n",
       "      <td>1014</td>\n",
       "      <td>0.0</td>\n",
       "      <td>SW</td>\n",
       "      <td>2.9</td>\n",
       "    </tr>\n",
       "    <tr>\n",
       "      <th>31524</th>\n",
       "      <td>35035</td>\n",
       "      <td>2017</td>\n",
       "      <td>2.0</td>\n",
       "      <td>27.0</td>\n",
       "      <td>19.0</td>\n",
       "      <td>51.0</td>\n",
       "      <td>11.5</td>\n",
       "      <td>1014.1</td>\n",
       "      <td>0.0</td>\n",
       "      <td>SSW</td>\n",
       "      <td>1.0</td>\n",
       "    </tr>\n",
       "    <tr>\n",
       "      <th>31525</th>\n",
       "      <td>35042</td>\n",
       "      <td>2017</td>\n",
       "      <td>2.0</td>\n",
       "      <td>28.0</td>\n",
       "      <td>2.0</td>\n",
       "      <td>9.0</td>\n",
       "      <td>8.6</td>\n",
       "      <td>1016</td>\n",
       "      <td>0.0</td>\n",
       "      <td>NNE</td>\n",
       "      <td>0.9</td>\n",
       "    </tr>\n",
       "    <tr>\n",
       "      <th>31526</th>\n",
       "      <td>35054</td>\n",
       "      <td>2017</td>\n",
       "      <td>2.0</td>\n",
       "      <td>28.0</td>\n",
       "      <td>14.0</td>\n",
       "      <td>5.0</td>\n",
       "      <td>14.6</td>\n",
       "      <td>1013.3</td>\n",
       "      <td>0.0</td>\n",
       "      <td>N</td>\n",
       "      <td>3.6</td>\n",
       "    </tr>\n",
       "  </tbody>\n",
       "</table>\n",
       "<p>31371 rows × 11 columns</p>\n",
       "</div>"
      ],
      "text/plain": [
       "       Unnamed: 0  year  month   day  hour  PM2.5  temperature pressure  rain  \\\n",
       "0               0  2013  -37.0   1.0   0.0    4.0         -0.7   102-37   0.0   \n",
       "2               2  2013    3.0   1.0   2.0    7.0         -1.1   1023.5   0.0   \n",
       "3               3  2013    3.0   1.0   3.0    6.0         -1.4   1024.5   0.0   \n",
       "4               4  2013    3.0   1.0   4.0    3.0         -2.0   1025.2   0.0   \n",
       "6               6  2013    3.0   1.0   6.0    3.0         -2.6   1026.5   0.0   \n",
       "...           ...   ...    ...   ...   ...    ...          ...      ...   ...   \n",
       "31522       35022  2017    2.0  27.0   6.0   80.0         -0.3   1019.4   0.0   \n",
       "31523       35032  2017    2.0  27.0  16.0   75.0         15.9     1014   0.0   \n",
       "31524       35035  2017    2.0  27.0  19.0   51.0         11.5   1014.1   0.0   \n",
       "31525       35042  2017    2.0  28.0   2.0    9.0          8.6     1016   0.0   \n",
       "31526       35054  2017    2.0  28.0  14.0    5.0         14.6   1013.3   0.0   \n",
       "\n",
       "      wind_direction  wind_speed  \n",
       "0                NNW         4.4  \n",
       "2                NNW         5.6  \n",
       "3                 NW         3.1  \n",
       "4                  N         2.0  \n",
       "6                NNE         2.5  \n",
       "...              ...         ...  \n",
       "31522            ENE         0.8  \n",
       "31523             SW         2.9  \n",
       "31524            SSW         1.0  \n",
       "31525            NNE         0.9  \n",
       "31526              N         3.6  \n",
       "\n",
       "[31371 rows x 11 columns]"
      ]
     },
     "execution_count": 12,
     "metadata": {},
     "output_type": "execute_result"
    }
   ],
   "source": [
    "df"
   ]
  },
  {
   "cell_type": "code",
   "execution_count": 13,
   "id": "c90466b2",
   "metadata": {
    "scrolled": true
   },
   "outputs": [],
   "source": [
    "# Deleting Unecessary year  (Outlier)\n",
    "\n",
    "df.drop(0,inplace=True) \n",
    "df.drop('Unnamed: 0',axis=1,inplace=True)"
   ]
  },
  {
   "cell_type": "code",
   "execution_count": 14,
   "id": "804ed036",
   "metadata": {},
   "outputs": [
    {
     "data": {
      "text/plain": [
       "year              0\n",
       "month             0\n",
       "day               0\n",
       "hour              0\n",
       "PM2.5             0\n",
       "temperature       0\n",
       "pressure          0\n",
       "rain              0\n",
       "wind_direction    0\n",
       "wind_speed        0\n",
       "dtype: int64"
      ]
     },
     "execution_count": 14,
     "metadata": {},
     "output_type": "execute_result"
    }
   ],
   "source": [
    "df.isnull().sum()"
   ]
  },
  {
   "cell_type": "code",
   "execution_count": 15,
   "id": "33c34e9a",
   "metadata": {},
   "outputs": [],
   "source": [
    "# Preparing data for a bar plot between Year vs Max Pm2.5\n",
    "\n",
    "year=['2013','2014','2015','2016','2017']\n",
    "max1=[]\n",
    "for i in year:\n",
    "    temp=df[df['year']==i]\n",
    "    max1.append(temp['PM2.5'].mean())"
   ]
  },
  {
   "cell_type": "code",
   "execution_count": 16,
   "id": "97552602",
   "metadata": {},
   "outputs": [
    {
     "data": {
      "image/png": "[encoded data removed]",
      "text/plain": [
       "<Figure size 432x288 with 1 Axes>"
      ]
     },
     "metadata": {
      "needs_background": "light"
     },
     "output_type": "display_data"
    }
   ],
   "source": [
    "# Bar Plot\n",
    "\n",
    "plt.bar(year,max1)\n",
    "plt.xlabel('Year')\n",
    "plt.ylabel(\"Average PM2.5\")\n",
    "plt.show()"
   ]
  },
  {
   "cell_type": "markdown",
   "id": "0c6a6935",
   "metadata": {},
   "source": [
    "#### Observation - Average Pm2.5 was very high in year 2013 and drastically decreased onwards"
   ]
  },
  {
   "cell_type": "code",
   "execution_count": 17,
   "id": "0835ec0a",
   "metadata": {},
   "outputs": [
    {
     "data": {
      "text/plain": [
       "<AxesSubplot:xlabel='month'>"
      ]
     },
     "execution_count": 17,
     "metadata": {},
     "output_type": "execute_result"
    },
    {
     "data": {
      "image/png": "[encoded data removed]",
      "text/plain": [
       "<Figure size 432x288 with 1 Axes>"
      ]
     },
     "metadata": {
      "needs_background": "light"
     },
     "output_type": "display_data"
    }
   ],
   "source": [
    "sns.boxplot(df['month'])    # Box Plot for month column"
   ]
  },
  {
   "cell_type": "code",
   "execution_count": 18,
   "id": "e61dc08c",
   "metadata": {},
   "outputs": [
    {
     "data": {
      "text/html": [
       "<div>\n",
       "<style scoped>\n",
       "    .dataframe tbody tr th:only-of-type {\n",
       "        vertical-align: middle;\n",
       "    }\n",
       "\n",
       "    .dataframe tbody tr th {\n",
       "        vertical-align: top;\n",
       "    }\n",
       "\n",
       "    .dataframe thead th {\n",
       "        text-align: right;\n",
       "    }\n",
       "</style>\n",
       "<table border=\"1\" class=\"dataframe\">\n",
       "  <thead>\n",
       "    <tr style=\"text-align: right;\">\n",
       "      <th></th>\n",
       "      <th>year</th>\n",
       "      <th>month</th>\n",
       "      <th>day</th>\n",
       "      <th>hour</th>\n",
       "      <th>PM2.5</th>\n",
       "      <th>temperature</th>\n",
       "      <th>pressure</th>\n",
       "      <th>rain</th>\n",
       "      <th>wind_direction</th>\n",
       "      <th>wind_speed</th>\n",
       "    </tr>\n",
       "  </thead>\n",
       "  <tbody>\n",
       "    <tr>\n",
       "      <th>24455</th>\n",
       "      <td>2016</td>\n",
       "      <td>1.0</td>\n",
       "      <td>-5656.0</td>\n",
       "      <td>12.0</td>\n",
       "      <td>91.0</td>\n",
       "      <td>3.0</td>\n",
       "      <td>1016.1</td>\n",
       "      <td>0.0</td>\n",
       "      <td>WNW</td>\n",
       "      <td>2.5</td>\n",
       "    </tr>\n",
       "  </tbody>\n",
       "</table>\n",
       "</div>"
      ],
      "text/plain": [
       "       year  month     day  hour  PM2.5  temperature pressure  rain  \\\n",
       "24455  2016    1.0 -5656.0  12.0   91.0          3.0   1016.1   0.0   \n",
       "\n",
       "      wind_direction  wind_speed  \n",
       "24455            WNW         2.5  "
      ]
     },
     "execution_count": 18,
     "metadata": {},
     "output_type": "execute_result"
    }
   ],
   "source": [
    "# Checking for outliers present in day column\n",
    "\n",
    "df[df['day']<0] "
   ]
  },
  {
   "cell_type": "code",
   "execution_count": 19,
   "id": "10b7d294",
   "metadata": {},
   "outputs": [],
   "source": [
    "df.drop(24455,inplace=True)     # Removing outlier"
   ]
  },
  {
   "cell_type": "code",
   "execution_count": 20,
   "id": "4ae40304",
   "metadata": {},
   "outputs": [
    {
     "data": {
      "text/plain": [
       "<AxesSubplot:xlabel='month', ylabel='Density'>"
      ]
     },
     "execution_count": 20,
     "metadata": {},
     "output_type": "execute_result"
    },
    {
     "data": {
      "image/png": "[encoded data removed]",
      "text/plain": [
       "<Figure size 432x288 with 1 Axes>"
      ]
     },
     "metadata": {
      "needs_background": "light"
     },
     "output_type": "display_data"
    }
   ],
   "source": [
    "sns.distplot(df['month'])       # Distribution Plot for month column"
   ]
  },
  {
   "cell_type": "code",
   "execution_count": 21,
   "id": "07b67b03",
   "metadata": {},
   "outputs": [
    {
     "data": {
      "text/plain": [
       "<AxesSubplot:xlabel='day', ylabel='Density'>"
      ]
     },
     "execution_count": 21,
     "metadata": {},
     "output_type": "execute_result"
    },
    {
     "data": {
      "image/png": "[encoded data removed]",
      "text/plain": [
       "<Figure size 432x288 with 1 Axes>"
      ]
     },
     "metadata": {
      "needs_background": "light"
     },
     "output_type": "display_data"
    }
   ],
   "source": [
    "sns.distplot(df['day'])        # Distribution plot for day column"
   ]
  },
  {
   "cell_type": "code",
   "execution_count": 22,
   "id": "2e8c1e5c",
   "metadata": {},
   "outputs": [
    {
     "data": {
      "text/plain": [
       "count    31369.000000\n",
       "mean        11.290733\n",
       "std         37.212603\n",
       "min      -6464.000000\n",
       "25%          5.000000\n",
       "50%         11.000000\n",
       "75%         18.000000\n",
       "max         23.000000\n",
       "Name: hour, dtype: float64"
      ]
     },
     "execution_count": 22,
     "metadata": {},
     "output_type": "execute_result"
    }
   ],
   "source": [
    "df['hour'].describe()          # Found an outlier as min is in negative"
   ]
  },
  {
   "cell_type": "code",
   "execution_count": 23,
   "id": "2462882b",
   "metadata": {},
   "outputs": [
    {
     "data": {
      "text/html": [
       "<div>\n",
       "<style scoped>\n",
       "    .dataframe tbody tr th:only-of-type {\n",
       "        vertical-align: middle;\n",
       "    }\n",
       "\n",
       "    .dataframe tbody tr th {\n",
       "        vertical-align: top;\n",
       "    }\n",
       "\n",
       "    .dataframe thead th {\n",
       "        text-align: right;\n",
       "    }\n",
       "</style>\n",
       "<table border=\"1\" class=\"dataframe\">\n",
       "  <thead>\n",
       "    <tr style=\"text-align: right;\">\n",
       "      <th></th>\n",
       "      <th>year</th>\n",
       "      <th>month</th>\n",
       "      <th>day</th>\n",
       "      <th>hour</th>\n",
       "      <th>PM2.5</th>\n",
       "      <th>temperature</th>\n",
       "      <th>pressure</th>\n",
       "      <th>rain</th>\n",
       "      <th>wind_direction</th>\n",
       "      <th>wind_speed</th>\n",
       "    </tr>\n",
       "  </thead>\n",
       "  <tbody>\n",
       "    <tr>\n",
       "      <th>24391</th>\n",
       "      <td>2016</td>\n",
       "      <td>1.0</td>\n",
       "      <td>11.0</td>\n",
       "      <td>-6464.0</td>\n",
       "      <td>15.0</td>\n",
       "      <td>-4.7</td>\n",
       "      <td>1031.2</td>\n",
       "      <td>0.0</td>\n",
       "      <td>NW</td>\n",
       "      <td>3.4</td>\n",
       "    </tr>\n",
       "  </tbody>\n",
       "</table>\n",
       "</div>"
      ],
      "text/plain": [
       "       year  month   day    hour  PM2.5  temperature pressure  rain  \\\n",
       "24391  2016    1.0  11.0 -6464.0   15.0         -4.7   1031.2   0.0   \n",
       "\n",
       "      wind_direction  wind_speed  \n",
       "24391             NW         3.4  "
      ]
     },
     "execution_count": 23,
     "metadata": {},
     "output_type": "execute_result"
    }
   ],
   "source": [
    "df[df['hour']<0]                # Removing outlier in hour column"
   ]
  },
  {
   "cell_type": "code",
   "execution_count": 24,
   "id": "7190d971",
   "metadata": {},
   "outputs": [],
   "source": [
    "df.drop(24391,inplace=True)"
   ]
  },
  {
   "cell_type": "code",
   "execution_count": 25,
   "id": "92e41a8c",
   "metadata": {},
   "outputs": [
    {
     "data": {
      "text/plain": [
       "<AxesSubplot:xlabel='hour', ylabel='Density'>"
      ]
     },
     "execution_count": 25,
     "metadata": {},
     "output_type": "execute_result"
    },
    {
     "data": {
      "image/png": "[encoded data removed]",
      "text/plain": [
       "<Figure size 432x288 with 1 Axes>"
      ]
     },
     "metadata": {
      "needs_background": "light"
     },
     "output_type": "display_data"
    }
   ],
   "source": [
    "sns.distplot(df['hour'])       # Distribution plot for hour column"
   ]
  },
  {
   "cell_type": "code",
   "execution_count": 26,
   "id": "4225eea0",
   "metadata": {},
   "outputs": [],
   "source": [
    "# Changing data type of pressure column into float type \n",
    "\n",
    "\n",
    "def f(s):\n",
    "    if s=='':\n",
    "        return None\n",
    "    else:\n",
    "        return float(s)\n",
    "\n",
    "df['pressure']=df['pressure'].apply(f)"
   ]
  },
  {
   "cell_type": "code",
   "execution_count": 27,
   "id": "6563439f",
   "metadata": {},
   "outputs": [
    {
     "data": {
      "text/plain": [
       "<AxesSubplot:xlabel='pressure'>"
      ]
     },
     "execution_count": 27,
     "metadata": {},
     "output_type": "execute_result"
    },
    {
     "data": {
      "image/png": "[encoded data removed]",
      "text/plain": [
       "<Figure size 432x288 with 1 Axes>"
      ]
     },
     "metadata": {
      "needs_background": "light"
     },
     "output_type": "display_data"
    }
   ],
   "source": [
    "sns.boxplot(df['pressure'])      # Box Plot For Pressure Column"
   ]
  },
  {
   "cell_type": "markdown",
   "id": "11b03759",
   "metadata": {},
   "source": [
    "#### We can clearly observe that there are outliers present in pressure features"
   ]
  },
  {
   "cell_type": "code",
   "execution_count": 28,
   "id": "72f99f17",
   "metadata": {},
   "outputs": [
    {
     "data": {
      "text/html": [
       "<div>\n",
       "<style scoped>\n",
       "    .dataframe tbody tr th:only-of-type {\n",
       "        vertical-align: middle;\n",
       "    }\n",
       "\n",
       "    .dataframe tbody tr th {\n",
       "        vertical-align: top;\n",
       "    }\n",
       "\n",
       "    .dataframe thead th {\n",
       "        text-align: right;\n",
       "    }\n",
       "</style>\n",
       "<table border=\"1\" class=\"dataframe\">\n",
       "  <thead>\n",
       "    <tr style=\"text-align: right;\">\n",
       "      <th></th>\n",
       "      <th>year</th>\n",
       "      <th>month</th>\n",
       "      <th>day</th>\n",
       "      <th>hour</th>\n",
       "      <th>PM2.5</th>\n",
       "      <th>temperature</th>\n",
       "      <th>pressure</th>\n",
       "      <th>rain</th>\n",
       "      <th>wind_direction</th>\n",
       "      <th>wind_speed</th>\n",
       "    </tr>\n",
       "  </thead>\n",
       "  <tbody>\n",
       "    <tr>\n",
       "      <th>24314</th>\n",
       "      <td>2016</td>\n",
       "      <td>1.0</td>\n",
       "      <td>8.0</td>\n",
       "      <td>14.0</td>\n",
       "      <td>8.0</td>\n",
       "      <td>1.2</td>\n",
       "      <td>-5646.0</td>\n",
       "      <td>0.0</td>\n",
       "      <td>NNE</td>\n",
       "      <td>2.4</td>\n",
       "    </tr>\n",
       "  </tbody>\n",
       "</table>\n",
       "</div>"
      ],
      "text/plain": [
       "       year  month  day  hour  PM2.5  temperature  pressure  rain  \\\n",
       "24314  2016    1.0  8.0  14.0    8.0          1.2   -5646.0   0.0   \n",
       "\n",
       "      wind_direction  wind_speed  \n",
       "24314            NNE         2.4  "
      ]
     },
     "execution_count": 28,
     "metadata": {},
     "output_type": "execute_result"
    }
   ],
   "source": [
    "df[df['pressure']<0]              # Checking and finding Outliers"
   ]
  },
  {
   "cell_type": "code",
   "execution_count": 29,
   "id": "722b70fc",
   "metadata": {},
   "outputs": [],
   "source": [
    "df.drop(24314,inplace=True)       # Droping the outlier column"
   ]
  },
  {
   "cell_type": "code",
   "execution_count": 30,
   "id": "3d1642c2",
   "metadata": {},
   "outputs": [
    {
     "data": {
      "text/plain": [
       "<AxesSubplot:xlabel='pressure'>"
      ]
     },
     "execution_count": 30,
     "metadata": {},
     "output_type": "execute_result"
    },
    {
     "data": {
      "image/png": "[encoded data removed]",
      "text/plain": [
       "<Figure size 432x288 with 1 Axes>"
      ]
     },
     "metadata": {
      "needs_background": "light"
     },
     "output_type": "display_data"
    }
   ],
   "source": [
    "sns.boxplot(df['pressure'])       # After removal of Outliers from box plot"
   ]
  },
  {
   "cell_type": "code",
   "execution_count": 31,
   "id": "b6f1eb08",
   "metadata": {},
   "outputs": [
    {
     "data": {
      "text/plain": [
       "array(['NNW', 'NW', 'N', 'NNE', 'ENE', 'E', 'NE', 'W', 'SSW', 'WSW', 'SE',\n",
       "       'WNW', 'SSE', 'ESE', 'S', 'SW'], dtype=object)"
      ]
     },
     "execution_count": 31,
     "metadata": {},
     "output_type": "execute_result"
    }
   ],
   "source": [
    "df['wind_direction'].unique()      # Finding Unique values in Wind direction column"
   ]
  },
  {
   "cell_type": "code",
   "execution_count": 32,
   "id": "655447aa",
   "metadata": {},
   "outputs": [
    {
     "data": {
      "text/plain": [
       "NE     4455\n",
       "ENE    3532\n",
       "SW     3032\n",
       "E      2334\n",
       "NNE    2238\n",
       "WSW    2047\n",
       "SSW    1981\n",
       "N      1884\n",
       "NW     1552\n",
       "ESE    1544\n",
       "NNW    1354\n",
       "S      1203\n",
       "SE     1182\n",
       "W      1087\n",
       "WNW    1017\n",
       "SSE     925\n",
       "Name: wind_direction, dtype: int64"
      ]
     },
     "execution_count": 32,
     "metadata": {},
     "output_type": "execute_result"
    }
   ],
   "source": [
    "df['wind_direction'].value_counts()"
   ]
  },
  {
   "cell_type": "code",
   "execution_count": 33,
   "id": "0de25d3b",
   "metadata": {},
   "outputs": [
    {
     "data": {
      "text/plain": [
       "count    31367.000000\n",
       "mean         1.697265\n",
       "std          1.337686\n",
       "min        -79.000000\n",
       "25%          0.900000\n",
       "50%          1.400000\n",
       "75%          2.200000\n",
       "max         11.200000\n",
       "Name: wind_speed, dtype: float64"
      ]
     },
     "execution_count": 33,
     "metadata": {},
     "output_type": "execute_result"
    }
   ],
   "source": [
    "df['wind_speed'].describe()"
   ]
  },
  {
   "cell_type": "code",
   "execution_count": 34,
   "id": "7839ac65",
   "metadata": {},
   "outputs": [
    {
     "data": {
      "text/plain": [
       "<AxesSubplot:xlabel='wind_speed'>"
      ]
     },
     "execution_count": 34,
     "metadata": {},
     "output_type": "execute_result"
    },
    {
     "data": {
      "image/png": "[encoded data removed]",
      "text/plain": [
       "<Figure size 432x288 with 1 Axes>"
      ]
     },
     "metadata": {
      "needs_background": "light"
     },
     "output_type": "display_data"
    }
   ],
   "source": [
    "sns.boxplot(df['wind_speed'])"
   ]
  },
  {
   "cell_type": "markdown",
   "id": "a0bf9c67",
   "metadata": {},
   "source": [
    "#### We can clearly observe outliers present in Wind Speed Column"
   ]
  },
  {
   "cell_type": "code",
   "execution_count": 35,
   "id": "8a0efe80",
   "metadata": {},
   "outputs": [],
   "source": [
    "higher=df['wind_speed'].quantile(0.99)\n",
    "lower=df['wind_speed'].quantile(0.01)\n",
    "df=df[(df['wind_speed']>=lower) & (df['wind_speed']<=higher)]"
   ]
  },
  {
   "cell_type": "markdown",
   "id": "64776cf3",
   "metadata": {},
   "source": [
    "#### Used Percentile method to Remove Outliers"
   ]
  },
  {
   "cell_type": "code",
   "execution_count": 36,
   "id": "7f388b3c",
   "metadata": {},
   "outputs": [
    {
     "data": {
      "text/plain": [
       "<AxesSubplot:xlabel='wind_speed'>"
      ]
     },
     "execution_count": 36,
     "metadata": {},
     "output_type": "execute_result"
    },
    {
     "data": {
      "image/png": "[encoded data removed]",
      "text/plain": [
       "<Figure size 432x288 with 1 Axes>"
      ]
     },
     "metadata": {
      "needs_background": "light"
     },
     "output_type": "display_data"
    }
   ],
   "source": [
    "sns.boxplot(df['wind_speed'])"
   ]
  },
  {
   "cell_type": "markdown",
   "id": "84996229",
   "metadata": {},
   "source": [
    "#### After Removing Outliers we can clearly observe that outliers have been reduced"
   ]
  },
  {
   "cell_type": "code",
   "execution_count": 37,
   "id": "9108f625",
   "metadata": {},
   "outputs": [
    {
     "data": {
      "text/plain": [
       "<AxesSubplot:xlabel='wind_speed', ylabel='Density'>"
      ]
     },
     "execution_count": 37,
     "metadata": {},
     "output_type": "execute_result"
    },
    {
     "data": {
      "image/png": "[encoded data removed]",
      "text/plain": [
       "<Figure size 432x288 with 1 Axes>"
      ]
     },
     "metadata": {
      "needs_background": "light"
     },
     "output_type": "display_data"
    }
   ],
   "source": [
    "sns.distplot(df['wind_speed'])"
   ]
  },
  {
   "cell_type": "code",
   "execution_count": 38,
   "id": "d6046386",
   "metadata": {},
   "outputs": [
    {
     "data": {
      "text/plain": [
       "<AxesSubplot:xlabel='rain', ylabel='Density'>"
      ]
     },
     "execution_count": 38,
     "metadata": {},
     "output_type": "execute_result"
    },
    {
     "data": {
      "image/png": "[encoded data removed]",
      "text/plain": [
       "<Figure size 432x288 with 1 Axes>"
      ]
     },
     "metadata": {
      "needs_background": "light"
     },
     "output_type": "display_data"
    }
   ],
   "source": [
    "sns.distplot(df['rain'])"
   ]
  },
  {
   "cell_type": "code",
   "execution_count": 39,
   "id": "c34377f9",
   "metadata": {},
   "outputs": [
    {
     "data": {
      "text/plain": [
       "<AxesSubplot:xlabel='temperature', ylabel='Density'>"
      ]
     },
     "execution_count": 39,
     "metadata": {},
     "output_type": "execute_result"
    },
    {
     "data": {
      "image/png": "[encoded data removed]",
      "text/plain": [
       "<Figure size 432x288 with 1 Axes>"
      ]
     },
     "metadata": {
      "needs_background": "light"
     },
     "output_type": "display_data"
    }
   ],
   "source": [
    "sns.distplot(df['temperature'])"
   ]
  },
  {
   "cell_type": "markdown",
   "id": "494035cf",
   "metadata": {},
   "source": [
    "### Distribution Plots of Temperature , Rain and Wind_Speed"
   ]
  },
  {
   "cell_type": "code",
   "execution_count": 40,
   "id": "1f9a7247",
   "metadata": {},
   "outputs": [],
   "source": [
    "# One Hot Encoding of Wind_direction\n",
    "temp=pd.get_dummies(df['wind_direction'])\n",
    "final_df=pd.concat([df,temp],axis=1)"
   ]
  },
  {
   "cell_type": "markdown",
   "id": "97209ef1",
   "metadata": {},
   "source": [
    "#### Used One hot encoding for handeling categorical values as these are nominal values"
   ]
  },
  {
   "cell_type": "code",
   "execution_count": 41,
   "id": "f23db42d",
   "metadata": {},
   "outputs": [],
   "source": [
    "final_df.drop('wind_direction',axis=1,inplace=True)"
   ]
  },
  {
   "cell_type": "markdown",
   "id": "cde9f9fd",
   "metadata": {},
   "source": [
    "# Machine Learning Model"
   ]
  },
  {
   "cell_type": "code",
   "execution_count": 42,
   "id": "a1e06235",
   "metadata": {},
   "outputs": [
    {
     "data": {
      "text/plain": [
       "2015    8386\n",
       "2014    8188\n",
       "2013    7248\n",
       "2016    6956\n",
       "2017     285\n",
       "Name: year, dtype: int64"
      ]
     },
     "execution_count": 42,
     "metadata": {},
     "output_type": "execute_result"
    }
   ],
   "source": [
    "final_df['year'].value_counts()"
   ]
  },
  {
   "cell_type": "code",
   "execution_count": 43,
   "id": "f33d8226",
   "metadata": {},
   "outputs": [],
   "source": [
    "# Changed Year column to Integer\n",
    "\n",
    "def f(s):\n",
    "    return int(s)\n",
    "final_df['year']=final_df['year'].apply(f)"
   ]
  },
  {
   "cell_type": "code",
   "execution_count": 44,
   "id": "42e1de26",
   "metadata": {},
   "outputs": [
    {
     "data": {
      "text/plain": [
       "2015    8386\n",
       "2014    8188\n",
       "2013    7248\n",
       "2016    6956\n",
       "2017     285\n",
       "Name: year, dtype: int64"
      ]
     },
     "execution_count": 44,
     "metadata": {},
     "output_type": "execute_result"
    }
   ],
   "source": [
    "final_df['year'].value_counts()"
   ]
  },
  {
   "cell_type": "markdown",
   "id": "e6972033",
   "metadata": {},
   "source": [
    "### We are making separate ML models for each year and saving in Pickle files \n",
    "#### The Reason due to huge size of the dataset we were getting very low accuracy , so to increase the accuracy we separated the year to 5 different models"
   ]
  },
  {
   "cell_type": "code",
   "execution_count": 140,
   "id": "6d4bd037",
   "metadata": {},
   "outputs": [],
   "source": [
    "df_13=final_df[final_df['year']==2014]\n",
    "df_13.drop('year',axis=1,inplace=True)"
   ]
  },
  {
   "cell_type": "code",
   "execution_count": 141,
   "id": "cb075a9f",
   "metadata": {},
   "outputs": [
    {
     "data": {
      "text/plain": [
       "(8188,)"
      ]
     },
     "execution_count": 141,
     "metadata": {},
     "output_type": "execute_result"
    }
   ],
   "source": [
    "X=df_13.drop('PM2.5',axis=1)\n",
    "Y=df_13['PM2.5']\n",
    "X.shape\n",
    "Y.shape"
   ]
  },
  {
   "cell_type": "code",
   "execution_count": 142,
   "id": "3875ecf7",
   "metadata": {},
   "outputs": [
    {
     "data": {
      "text/html": [
       "<div>\n",
       "<style scoped>\n",
       "    .dataframe tbody tr th:only-of-type {\n",
       "        vertical-align: middle;\n",
       "    }\n",
       "\n",
       "    .dataframe tbody tr th {\n",
       "        vertical-align: top;\n",
       "    }\n",
       "\n",
       "    .dataframe thead th {\n",
       "        text-align: right;\n",
       "    }\n",
       "</style>\n",
       "<table border=\"1\" class=\"dataframe\">\n",
       "  <thead>\n",
       "    <tr style=\"text-align: right;\">\n",
       "      <th></th>\n",
       "      <th>month</th>\n",
       "      <th>day</th>\n",
       "      <th>hour</th>\n",
       "      <th>PM2.5</th>\n",
       "      <th>temperature</th>\n",
       "      <th>pressure</th>\n",
       "      <th>rain</th>\n",
       "      <th>wind_speed</th>\n",
       "      <th>E</th>\n",
       "      <th>ENE</th>\n",
       "      <th>...</th>\n",
       "      <th>NNW</th>\n",
       "      <th>NW</th>\n",
       "      <th>S</th>\n",
       "      <th>SE</th>\n",
       "      <th>SSE</th>\n",
       "      <th>SSW</th>\n",
       "      <th>SW</th>\n",
       "      <th>W</th>\n",
       "      <th>WNW</th>\n",
       "      <th>WSW</th>\n",
       "    </tr>\n",
       "  </thead>\n",
       "  <tbody>\n",
       "    <tr>\n",
       "      <th>count</th>\n",
       "      <td>8188.000000</td>\n",
       "      <td>8188.000000</td>\n",
       "      <td>8188.000000</td>\n",
       "      <td>8188.000000</td>\n",
       "      <td>8188.000000</td>\n",
       "      <td>8188.000000</td>\n",
       "      <td>8188.000000</td>\n",
       "      <td>8188.000000</td>\n",
       "      <td>8188.00000</td>\n",
       "      <td>8188.000000</td>\n",
       "      <td>...</td>\n",
       "      <td>8188.000000</td>\n",
       "      <td>8188.000000</td>\n",
       "      <td>8188.000000</td>\n",
       "      <td>8188.000000</td>\n",
       "      <td>8188.000000</td>\n",
       "      <td>8188.000000</td>\n",
       "      <td>8188.000000</td>\n",
       "      <td>8188.000000</td>\n",
       "      <td>8188.000000</td>\n",
       "      <td>8188.000000</td>\n",
       "    </tr>\n",
       "    <tr>\n",
       "      <th>mean</th>\n",
       "      <td>6.304714</td>\n",
       "      <td>15.280899</td>\n",
       "      <td>11.471666</td>\n",
       "      <td>91.176172</td>\n",
       "      <td>14.478444</td>\n",
       "      <td>1010.729421</td>\n",
       "      <td>0.060552</td>\n",
       "      <td>1.435271</td>\n",
       "      <td>0.06021</td>\n",
       "      <td>0.134099</td>\n",
       "      <td>...</td>\n",
       "      <td>0.033830</td>\n",
       "      <td>0.025159</td>\n",
       "      <td>0.032487</td>\n",
       "      <td>0.023937</td>\n",
       "      <td>0.021983</td>\n",
       "      <td>0.060821</td>\n",
       "      <td>0.108207</td>\n",
       "      <td>0.045799</td>\n",
       "      <td>0.025647</td>\n",
       "      <td>0.091964</td>\n",
       "    </tr>\n",
       "    <tr>\n",
       "      <th>std</th>\n",
       "      <td>3.324271</td>\n",
       "      <td>8.731587</td>\n",
       "      <td>6.933705</td>\n",
       "      <td>83.086883</td>\n",
       "      <td>11.109223</td>\n",
       "      <td>9.996120</td>\n",
       "      <td>0.825579</td>\n",
       "      <td>1.074471</td>\n",
       "      <td>0.23789</td>\n",
       "      <td>0.340779</td>\n",
       "      <td>...</td>\n",
       "      <td>0.180802</td>\n",
       "      <td>0.156617</td>\n",
       "      <td>0.177299</td>\n",
       "      <td>0.152864</td>\n",
       "      <td>0.146638</td>\n",
       "      <td>0.239016</td>\n",
       "      <td>0.310661</td>\n",
       "      <td>0.209061</td>\n",
       "      <td>0.158090</td>\n",
       "      <td>0.288993</td>\n",
       "    </tr>\n",
       "    <tr>\n",
       "      <th>min</th>\n",
       "      <td>1.000000</td>\n",
       "      <td>1.000000</td>\n",
       "      <td>0.000000</td>\n",
       "      <td>3.000000</td>\n",
       "      <td>-12.200000</td>\n",
       "      <td>987.700000</td>\n",
       "      <td>0.000000</td>\n",
       "      <td>0.000000</td>\n",
       "      <td>0.00000</td>\n",
       "      <td>0.000000</td>\n",
       "      <td>...</td>\n",
       "      <td>0.000000</td>\n",
       "      <td>0.000000</td>\n",
       "      <td>0.000000</td>\n",
       "      <td>0.000000</td>\n",
       "      <td>0.000000</td>\n",
       "      <td>0.000000</td>\n",
       "      <td>0.000000</td>\n",
       "      <td>0.000000</td>\n",
       "      <td>0.000000</td>\n",
       "      <td>0.000000</td>\n",
       "    </tr>\n",
       "    <tr>\n",
       "      <th>25%</th>\n",
       "      <td>3.000000</td>\n",
       "      <td>8.000000</td>\n",
       "      <td>5.000000</td>\n",
       "      <td>29.000000</td>\n",
       "      <td>4.400000</td>\n",
       "      <td>1002.000000</td>\n",
       "      <td>0.000000</td>\n",
       "      <td>0.700000</td>\n",
       "      <td>0.00000</td>\n",
       "      <td>0.000000</td>\n",
       "      <td>...</td>\n",
       "      <td>0.000000</td>\n",
       "      <td>0.000000</td>\n",
       "      <td>0.000000</td>\n",
       "      <td>0.000000</td>\n",
       "      <td>0.000000</td>\n",
       "      <td>0.000000</td>\n",
       "      <td>0.000000</td>\n",
       "      <td>0.000000</td>\n",
       "      <td>0.000000</td>\n",
       "      <td>0.000000</td>\n",
       "    </tr>\n",
       "    <tr>\n",
       "      <th>50%</th>\n",
       "      <td>6.000000</td>\n",
       "      <td>15.000000</td>\n",
       "      <td>11.000000</td>\n",
       "      <td>70.000000</td>\n",
       "      <td>15.700000</td>\n",
       "      <td>1010.100000</td>\n",
       "      <td>0.000000</td>\n",
       "      <td>1.300000</td>\n",
       "      <td>0.00000</td>\n",
       "      <td>0.000000</td>\n",
       "      <td>...</td>\n",
       "      <td>0.000000</td>\n",
       "      <td>0.000000</td>\n",
       "      <td>0.000000</td>\n",
       "      <td>0.000000</td>\n",
       "      <td>0.000000</td>\n",
       "      <td>0.000000</td>\n",
       "      <td>0.000000</td>\n",
       "      <td>0.000000</td>\n",
       "      <td>0.000000</td>\n",
       "      <td>0.000000</td>\n",
       "    </tr>\n",
       "    <tr>\n",
       "      <th>75%</th>\n",
       "      <td>9.000000</td>\n",
       "      <td>23.000000</td>\n",
       "      <td>18.000000</td>\n",
       "      <td>126.000000</td>\n",
       "      <td>23.300000</td>\n",
       "      <td>1019.000000</td>\n",
       "      <td>0.000000</td>\n",
       "      <td>1.900000</td>\n",
       "      <td>0.00000</td>\n",
       "      <td>0.000000</td>\n",
       "      <td>...</td>\n",
       "      <td>0.000000</td>\n",
       "      <td>0.000000</td>\n",
       "      <td>0.000000</td>\n",
       "      <td>0.000000</td>\n",
       "      <td>0.000000</td>\n",
       "      <td>0.000000</td>\n",
       "      <td>0.000000</td>\n",
       "      <td>0.000000</td>\n",
       "      <td>0.000000</td>\n",
       "      <td>0.000000</td>\n",
       "    </tr>\n",
       "    <tr>\n",
       "      <th>max</th>\n",
       "      <td>12.000000</td>\n",
       "      <td>31.000000</td>\n",
       "      <td>23.000000</td>\n",
       "      <td>584.000000</td>\n",
       "      <td>40.500000</td>\n",
       "      <td>1036.000000</td>\n",
       "      <td>40.700000</td>\n",
       "      <td>5.600000</td>\n",
       "      <td>1.00000</td>\n",
       "      <td>1.000000</td>\n",
       "      <td>...</td>\n",
       "      <td>1.000000</td>\n",
       "      <td>1.000000</td>\n",
       "      <td>1.000000</td>\n",
       "      <td>1.000000</td>\n",
       "      <td>1.000000</td>\n",
       "      <td>1.000000</td>\n",
       "      <td>1.000000</td>\n",
       "      <td>1.000000</td>\n",
       "      <td>1.000000</td>\n",
       "      <td>1.000000</td>\n",
       "    </tr>\n",
       "  </tbody>\n",
       "</table>\n",
       "<p>8 rows × 24 columns</p>\n",
       "</div>"
      ],
      "text/plain": [
       "             month          day         hour        PM2.5  temperature  \\\n",
       "count  8188.000000  8188.000000  8188.000000  8188.000000  8188.000000   \n",
       "mean      6.304714    15.280899    11.471666    91.176172    14.478444   \n",
       "std       3.324271     8.731587     6.933705    83.086883    11.109223   \n",
       "min       1.000000     1.000000     0.000000     3.000000   -12.200000   \n",
       "25%       3.000000     8.000000     5.000000    29.000000     4.400000   \n",
       "50%       6.000000    15.000000    11.000000    70.000000    15.700000   \n",
       "75%       9.000000    23.000000    18.000000   126.000000    23.300000   \n",
       "max      12.000000    31.000000    23.000000   584.000000    40.500000   \n",
       "\n",
       "          pressure         rain   wind_speed           E          ENE  ...  \\\n",
       "count  8188.000000  8188.000000  8188.000000  8188.00000  8188.000000  ...   \n",
       "mean   1010.729421     0.060552     1.435271     0.06021     0.134099  ...   \n",
       "std       9.996120     0.825579     1.074471     0.23789     0.340779  ...   \n",
       "min     987.700000     0.000000     0.000000     0.00000     0.000000  ...   \n",
       "25%    1002.000000     0.000000     0.700000     0.00000     0.000000  ...   \n",
       "50%    1010.100000     0.000000     1.300000     0.00000     0.000000  ...   \n",
       "75%    1019.000000     0.000000     1.900000     0.00000     0.000000  ...   \n",
       "max    1036.000000    40.700000     5.600000     1.00000     1.000000  ...   \n",
       "\n",
       "               NNW           NW            S           SE          SSE  \\\n",
       "count  8188.000000  8188.000000  8188.000000  8188.000000  8188.000000   \n",
       "mean      0.033830     0.025159     0.032487     0.023937     0.021983   \n",
       "std       0.180802     0.156617     0.177299     0.152864     0.146638   \n",
       "min       0.000000     0.000000     0.000000     0.000000     0.000000   \n",
       "25%       0.000000     0.000000     0.000000     0.000000     0.000000   \n",
       "50%       0.000000     0.000000     0.000000     0.000000     0.000000   \n",
       "75%       0.000000     0.000000     0.000000     0.000000     0.000000   \n",
       "max       1.000000     1.000000     1.000000     1.000000     1.000000   \n",
       "\n",
       "               SSW           SW            W          WNW          WSW  \n",
       "count  8188.000000  8188.000000  8188.000000  8188.000000  8188.000000  \n",
       "mean      0.060821     0.108207     0.045799     0.025647     0.091964  \n",
       "std       0.239016     0.310661     0.209061     0.158090     0.288993  \n",
       "min       0.000000     0.000000     0.000000     0.000000     0.000000  \n",
       "25%       0.000000     0.000000     0.000000     0.000000     0.000000  \n",
       "50%       0.000000     0.000000     0.000000     0.000000     0.000000  \n",
       "75%       0.000000     0.000000     0.000000     0.000000     0.000000  \n",
       "max       1.000000     1.000000     1.000000     1.000000     1.000000  \n",
       "\n",
       "[8 rows x 24 columns]"
      ]
     },
     "execution_count": 142,
     "metadata": {},
     "output_type": "execute_result"
    }
   ],
   "source": [
    "df_13.describe()"
   ]
  },
  {
   "cell_type": "code",
   "execution_count": 143,
   "id": "96e581f0",
   "metadata": {},
   "outputs": [],
   "source": [
    "# Train Test Split\n",
    "\n",
    "from sklearn.model_selection import train_test_split\n",
    "X_train,X_test,Y_train,Y_test = train_test_split(X,Y,test_size=0.2,random_state=13)"
   ]
  },
  {
   "cell_type": "code",
   "execution_count": 144,
   "id": "d7240f72",
   "metadata": {},
   "outputs": [
    {
     "data": {
      "text/plain": [
       "0.8174551228526508"
      ]
     },
     "execution_count": 144,
     "metadata": {},
     "output_type": "execute_result"
    }
   ],
   "source": [
    "# Random Forest Regressor\n",
    "\n",
    "from sklearn.metrics import classification_report,accuracy_score\n",
    "from sklearn.ensemble import RandomForestRegressor\n",
    "model3=RandomForestRegressor()\n",
    "model3.fit(X_train,Y_train)\n",
    "model3.score(X_test,Y_test)"
   ]
  },
  {
   "cell_type": "code",
   "execution_count": 145,
   "id": "e6e3a505",
   "metadata": {},
   "outputs": [
    {
     "data": {
      "text/plain": [
       "0.4770366854450331"
      ]
     },
     "execution_count": 145,
     "metadata": {},
     "output_type": "execute_result"
    }
   ],
   "source": [
    "# Gradient Boosting Regressor\n",
    "\n",
    "from sklearn.ensemble import GradientBoostingRegressor\n",
    "model4=GradientBoostingRegressor()\n",
    "model4.fit(X_train,Y_train)\n",
    "model4.score(X_test,Y_test)"
   ]
  },
  {
   "cell_type": "code",
   "execution_count": 146,
   "id": "1ec92772",
   "metadata": {},
   "outputs": [
    {
     "data": {
      "text/plain": [
       "0.7924321713366254"
      ]
     },
     "execution_count": 146,
     "metadata": {},
     "output_type": "execute_result"
    }
   ],
   "source": [
    "# Extra Tree Regressor\n",
    "\n",
    "from sklearn.ensemble import ExtraTreesRegressor\n",
    "model5=ExtraTreesRegressor()\n",
    "model5.fit(X_train,Y_train)\n",
    "model5.score(X_test,Y_test)"
   ]
  },
  {
   "cell_type": "code",
   "execution_count": 147,
   "id": "4569a3e9",
   "metadata": {},
   "outputs": [
    {
     "data": {
      "text/plain": [
       "-0.0565374349124097"
      ]
     },
     "execution_count": 147,
     "metadata": {},
     "output_type": "execute_result"
    }
   ],
   "source": [
    "# Support Vector Regressor\n",
    "\n",
    "from sklearn.svm import SVR\n",
    "model6=SVR(kernel='rbf')\n",
    "model6.fit(X_train,Y_train)\n",
    "model6.score(X_test,Y_test)"
   ]
  },
  {
   "cell_type": "code",
   "execution_count": 148,
   "id": "878f3e7f",
   "metadata": {},
   "outputs": [
    {
     "data": {
      "text/plain": [
       "0.13351586551647587"
      ]
     },
     "execution_count": 148,
     "metadata": {},
     "output_type": "execute_result"
    }
   ],
   "source": [
    "# Linear Regresson\n",
    "\n",
    "from sklearn.linear_model import LinearRegression\n",
    "model7=LinearRegression()\n",
    "model7.fit(X_train,Y_train)\n",
    "model7.score(X_test,Y_test)"
   ]
  },
  {
   "cell_type": "code",
   "execution_count": 149,
   "id": "7ff9ed70",
   "metadata": {},
   "outputs": [],
   "source": [
    "# Prediction of X test data\n",
    "\n",
    "ans3=model3.predict(X_test)"
   ]
  },
  {
   "cell_type": "code",
   "execution_count": 150,
   "id": "2583af61",
   "metadata": {},
   "outputs": [
    {
     "name": "stdout",
     "output_type": "stream",
     "text": [
      "1274.193162636752\n"
     ]
    },
    {
     "data": {
      "text/plain": [
       "0.3224524868430815"
      ]
     },
     "execution_count": 150,
     "metadata": {},
     "output_type": "execute_result"
    }
   ],
   "source": [
    "# Checking Losses and Errors\n",
    "\n",
    "from sklearn.metrics import mean_squared_error,mean_squared_log_error\n",
    "print(mean_squared_error(Y_test,ans3))\n",
    "mean_squared_log_error(Y_test,ans3)"
   ]
  },
  {
   "cell_type": "markdown",
   "id": "2634e8ec",
   "metadata": {},
   "source": [
    "### As we can observe that we applied a lot of Regression Ml Algorithms and almost for every year we are getting highest accuracy in Random Forest Regressor , so we have used it for further Hyper parameter Tuning and deployment"
   ]
  },
  {
   "cell_type": "markdown",
   "id": "c01bedbb",
   "metadata": {},
   "source": [
    "### Cross Validation and Hyper Parameter Tuning"
   ]
  },
  {
   "cell_type": "code",
   "execution_count": 151,
   "id": "5fe9c580",
   "metadata": {},
   "outputs": [],
   "source": [
    "from sklearn.model_selection import GridSearchCV , TimeSeriesSplit"
   ]
  },
  {
   "cell_type": "code",
   "execution_count": 152,
   "id": "defd2961",
   "metadata": {},
   "outputs": [],
   "source": [
    "# Declaring Parameters for Hyper Parameter Tuning\n",
    "\n",
    "parameters={\n",
    "    'n_estimators':[50,100,150,200,250,300,350,400,450,500,550,600],\n",
    "    'criterion':['squared_error','absolute_error','poisson']\n",
    "}\n",
    "model3=RandomForestRegressor()"
   ]
  },
  {
   "cell_type": "code",
   "execution_count": 153,
   "id": "db5ed01a",
   "metadata": {},
   "outputs": [],
   "source": [
    "# Cross Validation \n",
    "\n",
    "tscv=TimeSeriesSplit(n_splits=10)\n",
    "regcv=GridSearchCV(model3,param_grid=parameters,cv=tscv)  "
   ]
  },
  {
   "cell_type": "markdown",
   "id": "b1941558",
   "metadata": {},
   "source": [
    "## Here we used Time Series Split for Cross Validation of data as The dataset itself contains values observed at fixed time intervals, in train/test sets. In each split, test indices must be higher than before, and thus shuffling in cross validator is inappropriate.\n",
    "\n",
    "## Also Used Grid Search CV for Hyper Parameter Tuning where I passed custom parameters"
   ]
  },
  {
   "cell_type": "code",
   "execution_count": 154,
   "id": "4261ad79",
   "metadata": {},
   "outputs": [
    {
     "data": {
      "text/plain": [
       "GridSearchCV(cv=TimeSeriesSplit(gap=0, max_train_size=None, n_splits=10, test_size=None),\n",
       "             estimator=RandomForestRegressor(),\n",
       "             param_grid={'criterion': ['squared_error', 'absolute_error',\n",
       "                                       'poisson'],\n",
       "                         'n_estimators': [50, 100, 150, 200, 250, 300, 350, 400,\n",
       "                                          450, 500, 550, 600]})"
      ]
     },
     "execution_count": 154,
     "metadata": {},
     "output_type": "execute_result"
    }
   ],
   "source": [
    "regcv.fit(X,Y)  # Fitting the model"
   ]
  },
  {
   "cell_type": "code",
   "execution_count": 155,
   "id": "be8c0408",
   "metadata": {},
   "outputs": [
    {
     "data": {
      "text/plain": [
       "{'criterion': 'poisson', 'n_estimators': 600}"
      ]
     },
     "execution_count": 155,
     "metadata": {},
     "output_type": "execute_result"
    }
   ],
   "source": [
    "regcv.best_params_"
   ]
  },
  {
   "cell_type": "code",
   "execution_count": 156,
   "id": "f1a29c52",
   "metadata": {},
   "outputs": [],
   "source": [
    "ans=regcv.predict(X_test)"
   ]
  },
  {
   "cell_type": "code",
   "execution_count": 157,
   "id": "56924867",
   "metadata": {},
   "outputs": [
    {
     "data": {
      "text/plain": [
       "0.8935011843959583"
      ]
     },
     "execution_count": 157,
     "metadata": {},
     "output_type": "execute_result"
    }
   ],
   "source": [
    "from sklearn.metrics import r2_score\n",
    "r2_score(ans,Y_test)"
   ]
  },
  {
   "cell_type": "markdown",
   "id": "959a612c",
   "metadata": {},
   "source": [
    "# Saving as a model"
   ]
  },
  {
   "cell_type": "code",
   "execution_count": 158,
   "id": "420bd8b1",
   "metadata": {},
   "outputs": [],
   "source": [
    "import pickle\n",
    "pickle.dump(regcv, open('tuned_model2014', 'wb'))"
   ]
  },
  {
   "cell_type": "code",
   "execution_count": null,
   "id": "457d95bf",
   "metadata": {},
   "outputs": [],
   "source": [
    "final_df.to_csv('final_train.csv')"
   ]
  }
 ],
 "metadata": {
  "kernelspec": {
   "display_name": "Python 3 (ipykernel)",
   "language": "python",
   "name": "python3"
  },
  "language_info": {
   "codemirror_mode": {
    "name": "ipython",
    "version": 3
   },
   "file_extension": ".py",
   "mimetype": "text/x-python",
   "name": "python",
   "nbconvert_exporter": "python",
   "pygments_lexer": "ipython3",
   "version": "3.9.7"
  }
 },
 "nbformat": 4,
 "nbformat_minor": 5
}
